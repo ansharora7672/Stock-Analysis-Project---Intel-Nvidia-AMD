{
 "cells": [
  {
   "cell_type": "code",
   "execution_count": 0,
   "metadata": {
    "application/vnd.databricks.v1+cell": {
     "cellMetadata": {
      "byteLimit": 2048000,
      "rowLimit": 10000
     },
     "inputWidgets": {},
     "nuid": "61866450-b622-41f4-8f45-c66eecd70bcf",
     "showTitle": false,
     "tableResultSettingsMap": {},
     "title": ""
    }
   },
   "outputs": [],
   "source": [
    "# Azure Databricks Python Commands: Accessing and Manipula3ng Data in Azure Blob Storage\n",
    "# SeFng up variables for accessing the Azure Blob Storage with account name, container name,and specific file path\n",
    "storage_account_name = \"<add your account name here>\"\n",
    "storage_container_name = \",<add your container name here>\"\n",
    "storage_relative_path_Nvidia = \"Nvidia.csv\"\n",
    "storage_relative_path_intel = \"Intel.csv\"\n",
    "storage_relative_path_AMD = \"AMD.csv\""
   ]
  },
  {
   "cell_type": "code",
   "execution_count": 0,
   "metadata": {
    "application/vnd.databricks.v1+cell": {
     "cellMetadata": {
      "byteLimit": 2048000,
      "rowLimit": 10000
     },
     "inputWidgets": {},
     "nuid": "d3995e92-1689-45e6-a5a5-5f9c46a23afd",
     "showTitle": false,
     "tableResultSettingsMap": {},
     "title": ""
    }
   },
   "outputs": [],
   "source": [
    "# SAS (Shared Access Signature) token for secure access to the Azure Blob Storage withoutexposing account keys\n",
    "storage_sas_token = r\"<add your SAS token here>\""
   ]
  },
  {
   "cell_type": "code",
   "execution_count": 0,
   "metadata": {
    "application/vnd.databricks.v1+cell": {
     "cellMetadata": {
      "byteLimit": 2048000,
      "rowLimit": 10000
     },
     "inputWidgets": {},
     "nuid": "295c8b74-4e07-43dd-ac1d-4da38aba52f3",
     "showTitle": false,
     "tableResultSettingsMap": {},
     "title": ""
    }
   },
   "outputs": [
    {
     "data": {
      "text/plain": [
       "'wasbs://inputdatastock@bigdatalearn.blob.core.windows.net/Nvidia.csv'"
      ]
     },
     "execution_count": 40,
     "metadata": {},
     "output_type": "execute_result"
    }
   ],
   "source": [
    "# Construct the full path to access the Azure Blob Storage using the WASB (Windows AzureStorage Blob) protocol\n",
    "file_path_Nvidia = 'wasbs://%s@%s.blob.core.windows.net/%s' % (storage_container_name,storage_account_name, storage_relative_path_Nvidia)\n",
    "file_path_intel = 'wasbs://%s@%s.blob.core.windows.net/%s' % (storage_container_name,storage_account_name, storage_relative_path_intel)\n",
    "file_path_AMD = 'wasbs://%s@%s.blob.core.windows.net/%s' % (storage_container_name,storage_account_name, storage_relative_path_AMD)\n",
    "file_path_Nvidia"
   ]
  },
  {
   "cell_type": "code",
   "execution_count": 0,
   "metadata": {
    "application/vnd.databricks.v1+cell": {
     "cellMetadata": {
      "byteLimit": 2048000,
      "rowLimit": 10000
     },
     "inputWidgets": {},
     "nuid": "1d01c344-019d-4163-9fa7-3f7cb98533b3",
     "showTitle": false,
     "tableResultSettingsMap": {},
     "title": ""
    }
   },
   "outputs": [],
   "source": [
    "# Set the Spark configura3on for accessing Azure Blob Storage using the SAS token\n",
    "spark.conf.set('fs.azure.sas.%s.%s.blob.core.windows.net' % (storage_container_name,storage_account_name), storage_sas_token)"
   ]
  },
  {
   "cell_type": "code",
   "execution_count": 0,
   "metadata": {
    "application/vnd.databricks.v1+cell": {
     "cellMetadata": {
      "byteLimit": 2048000,
      "rowLimit": 10000
     },
     "inputWidgets": {},
     "nuid": "f965b2b1-af20-45a2-b316-d1cf200a5265",
     "showTitle": false,
     "tableResultSettingsMap": {},
     "title": ""
    }
   },
   "outputs": [
    {
     "name": "stdout",
     "output_type": "stream",
     "text": [
      "NVIDIA Data Sample:\n",
      "+----------+------+------+------+------+---------+\n",
      "|      date|  open|  high|   low| close|   volume|\n",
      "+----------+------+------+------+------+---------+\n",
      "|1999-01-22|0.4023| 0.449|0.3569|0.3772|271468800|\n",
      "|1999-01-25|0.4071|0.4214|0.3772|0.4166| 51048000|\n",
      "|1999-01-26|0.4214|0.4299|0.3783|0.3843| 34320000|\n",
      "|1999-01-27|0.3856|0.3952| 0.364|0.3831| 24436800|\n",
      "|1999-01-28|0.3831|0.3856|0.3795| 0.382| 22752000|\n",
      "+----------+------+------+------+------+---------+\n",
      "only showing top 5 rows\n",
      "\n",
      "Intel Data Sample:\n",
      "+----------+------+------+------+------+--------+\n",
      "|      date|  open|  high|   low| close|  volume|\n",
      "+----------+------+------+------+------+--------+\n",
      "|1980-03-17|0.1927|0.1958|0.1927|0.1927|10924800|\n",
      "|1980-03-18|0.1927|0.1943|0.1912|0.1912|17068800|\n",
      "|1980-03-19|0.1958|0.1989|0.1958|0.1958|18508800|\n",
      "|1980-03-20|0.1958|0.1981| 0.195| 0.195|11174400|\n",
      "|1980-03-21|0.1912|0.1912|0.1881|0.1881|12172800|\n",
      "+----------+------+------+------+------+--------+\n",
      "only showing top 5 rows\n",
      "\n",
      "AMD Data Sample:\n",
      "+----------+------+------+------+------+------+\n",
      "|      date|  open|  high|   low| close|volume|\n",
      "+----------+------+------+------+------+------+\n",
      "|1983-03-21|8.9675|  9.03|8.8101|8.9975|510800|\n",
      "|1983-03-22|8.7176|8.9675|8.4977|8.4977|328000|\n",
      "|1983-03-23|8.4977|8.8101|8.4677|8.7176|427200|\n",
      "|1983-03-24|8.7176|8.7801|8.6551|8.7801|393200|\n",
      "|1983-03-25|8.9051|  9.06|8.7476|8.8726|210400|\n",
      "+----------+------+------+------+------+------+\n",
      "only showing top 5 rows\n",
      "\n"
     ]
    }
   ],
   "source": [
    "# Importing necessary libraries\n",
    "from pyspark.sql import SparkSession\n",
    "\n",
    "# Spark session\n",
    "spark = SparkSession.builder.appName(\"StockDataAnalysis\").getOrCreate()\n",
    "\n",
    "# Read CSV files into Spark DataFrames\n",
    "df_nvidia = spark.read.csv(file_path_Nvidia, header=True, inferSchema=True)\n",
    "df_intel = spark.read.csv(file_path_intel, header=True, inferSchema=True)\n",
    "df_amd = spark.read.csv(file_path_AMD, header=True, inferSchema=True)\n",
    "\n",
    "# Show first few rows of each dataset\n",
    "print(\"NVIDIA Data Sample:\")\n",
    "df_nvidia.show(5)\n",
    "\n",
    "print(\"Intel Data Sample:\")\n",
    "df_intel.show(5)\n",
    "\n",
    "print(\"AMD Data Sample:\")\n",
    "df_amd.show(5)\n"
   ]
  },
  {
   "cell_type": "code",
   "execution_count": 0,
   "metadata": {
    "application/vnd.databricks.v1+cell": {
     "cellMetadata": {
      "byteLimit": 2048000,
      "rowLimit": 10000
     },
     "inputWidgets": {},
     "nuid": "2e85f4c8-2fe7-435b-a88a-a99b4b5c0976",
     "showTitle": false,
     "tableResultSettingsMap": {},
     "title": ""
    }
   },
   "outputs": [
    {
     "name": "stdout",
     "output_type": "stream",
     "text": [
      "NVIDIA Data Schema:\n",
      "root\n",
      " |-- date: date (nullable = true)\n",
      " |-- open: double (nullable = true)\n",
      " |-- high: double (nullable = true)\n",
      " |-- low: double (nullable = true)\n",
      " |-- close: double (nullable = true)\n",
      " |-- volume: integer (nullable = true)\n",
      "\n",
      "Intel Data Schema:\n",
      "root\n",
      " |-- date: date (nullable = true)\n",
      " |-- open: double (nullable = true)\n",
      " |-- high: double (nullable = true)\n",
      " |-- low: double (nullable = true)\n",
      " |-- close: double (nullable = true)\n",
      " |-- volume: integer (nullable = true)\n",
      "\n",
      "AMD Data Schema:\n",
      "root\n",
      " |-- date: date (nullable = true)\n",
      " |-- open: double (nullable = true)\n",
      " |-- high: double (nullable = true)\n",
      " |-- low: double (nullable = true)\n",
      " |-- close: double (nullable = true)\n",
      " |-- volume: integer (nullable = true)\n",
      "\n"
     ]
    }
   ],
   "source": [
    "print(\"NVIDIA Data Schema:\")\n",
    "df_nvidia.printSchema()\n",
    "\n",
    "print(\"Intel Data Schema:\")\n",
    "df_intel.printSchema()\n",
    "\n",
    "print(\"AMD Data Schema:\")\n",
    "df_amd.printSchema()\n"
   ]
  },
  {
   "cell_type": "code",
   "execution_count": 0,
   "metadata": {
    "application/vnd.databricks.v1+cell": {
     "cellMetadata": {
      "byteLimit": 2048000,
      "rowLimit": 10000
     },
     "inputWidgets": {},
     "nuid": "2c150d79-dbe0-483b-a113-57e9679851c1",
     "showTitle": false,
     "tableResultSettingsMap": {},
     "title": ""
    }
   },
   "outputs": [
    {
     "name": "stdout",
     "output_type": "stream",
     "text": [
      "+-------+-----------------+------------------+------------------+------------------+--------------------+\n",
      "|summary|             open|              high|               low|             close|              volume|\n",
      "+-------+-----------------+------------------+------------------+------------------+--------------------+\n",
      "|  count|             5862|              5862|              5862|              5862|                5862|\n",
      "|   mean|25.00792364380762|25.458695957011276|24.508433725690903|24.995716035482797|6.1641501325315595E7|\n",
      "| stddev| 52.9480290965112| 53.97645423214916|51.753299591168435|52.879955850270186| 4.480042492930524E7|\n",
      "|    min|           0.3209|            0.3268|            0.3065|            0.3138|             1968000|\n",
      "|    max|          335.072|          346.3687|          320.2663|          333.6624|           923085600|\n",
      "+-------+-----------------+------------------+------------------+------------------+--------------------+\n",
      "\n",
      "+-------+------------------+------------------+------------------+------------------+-------------------+\n",
      "|summary|              open|              high|               low|             close|             volume|\n",
      "+-------+------------------+------------------+------------------+------------------+-------------------+\n",
      "|  count|             10627|             10627|             10627|             10627|              10627|\n",
      "|   mean|14.790688811517809|14.984496490072447|14.598402465418296|14.790760647407568|5.071844174527148E7|\n",
      "| stddev|15.298850329490964|15.487168299280711|15.116189451003809|15.301823585588668|3.512801964012804E7|\n",
      "|    min|            0.1295|            0.1295|             0.128|             0.128|                  0|\n",
      "|    max|           65.8481|           66.1281|           64.3323|           65.9061|          567708800|\n",
      "+-------+------------------+------------------+------------------+------------------+-------------------+\n",
      "\n",
      "+-------+------------------+------------------+------------------+-----------------+--------------------+\n",
      "|summary|              open|              high|               low|            close|              volume|\n",
      "+-------+------------------+------------------+------------------+-----------------+--------------------+\n",
      "|  count|              9866|              9866|              9866|             9866|                9866|\n",
      "|   mean|16.101347709304747|16.438919977701225| 15.73288569835803|16.08626686600452|1.8119771605615243E7|\n",
      "| stddev|20.760986715978568|21.182910163139955|20.290905367381292|20.74050579666414|2.7009616375913918E7|\n",
      "|    min|              1.62|              1.69|              1.61|             1.62|                3200|\n",
      "|    max|            163.28|          164.4599|             156.1|           161.91|           325058416|\n",
      "+-------+------------------+------------------+------------------+-----------------+--------------------+\n",
      "\n"
     ]
    }
   ],
   "source": [
    "# summary statistics\n",
    "df_nvidia.describe().show()\n",
    "\n",
    "df_intel.describe().show()\n",
    "df_amd.describe().show()\n"
   ]
  },
  {
   "cell_type": "code",
   "execution_count": 0,
   "metadata": {
    "application/vnd.databricks.v1+cell": {
     "cellMetadata": {
      "byteLimit": 2048000,
      "rowLimit": 10000
     },
     "inputWidgets": {},
     "nuid": "6939e88d-54e0-4e39-87bf-f18486b87b87",
     "showTitle": false,
     "tableResultSettingsMap": {},
     "title": ""
    }
   },
   "outputs": [
    {
     "name": "stdout",
     "output_type": "stream",
     "text": [
      "Checking missing values for NVIDIA:\n",
      "+----+----+----+---+-----+------+\n",
      "|date|open|high|low|close|volume|\n",
      "+----+----+----+---+-----+------+\n",
      "|   0|   0|   0|  0|    0|     0|\n",
      "+----+----+----+---+-----+------+\n",
      "\n",
      "Checking missing values for Intel:\n",
      "+----+----+----+---+-----+------+\n",
      "|date|open|high|low|close|volume|\n",
      "+----+----+----+---+-----+------+\n",
      "|   0|   0|   0|  0|    0|     0|\n",
      "+----+----+----+---+-----+------+\n",
      "\n",
      "Checking missing values for AMD:\n",
      "+----+----+----+---+-----+------+\n",
      "|date|open|high|low|close|volume|\n",
      "+----+----+----+---+-----+------+\n",
      "|   0|   0|   0|  0|    0|     0|\n",
      "+----+----+----+---+-----+------+\n",
      "\n"
     ]
    }
   ],
   "source": [
    "#check if there are null values in the dataset\n",
    "from pyspark.sql.functions import col, sum\n",
    "\n",
    "# Function to check missing values in a dataframe\n",
    "def check_missing_values(df, name):\n",
    "    print(f\"Checking missing values for {name}:\")\n",
    "    df.select([sum(col(c).isNull().cast(\"int\")).alias(c) for c in df.columns]).show()\n",
    "\n",
    "# Check missing values for each dataset\n",
    "check_missing_values(df_nvidia, \"NVIDIA\")\n",
    "check_missing_values(df_intel, \"Intel\")\n",
    "check_missing_values(df_amd, \"AMD\")\n"
   ]
  },
  {
   "cell_type": "code",
   "execution_count": 0,
   "metadata": {
    "application/vnd.databricks.v1+cell": {
     "cellMetadata": {
      "byteLimit": 2048000,
      "rowLimit": 10000
     },
     "inputWidgets": {},
     "nuid": "1571d8d1-9afb-4a3f-b917-e3b662ccf00e",
     "showTitle": false,
     "tableResultSettingsMap": {},
     "title": ""
    }
   },
   "outputs": [
    {
     "data": {
      "image/png": "[encoded data removed]",
      "text/plain": [
       "<Figure size 1200x600 with 1 Axes>"
      ]
     },
     "metadata": {},
     "output_type": "display_data"
    }
   ],
   "source": [
    "#EDA\n",
    "import matplotlib.pyplot as plt\n",
    "\n",
    "# Converting Spark DataFrames to Pandas for plotting\n",
    "df_nvidia_pd = df_nvidia.toPandas()\n",
    "df_intel_pd = df_intel.toPandas()\n",
    "df_amd_pd = df_amd.toPandas()\n",
    "\n",
    "# Ploting stock closing prices over time\n",
    "plt.figure(figsize=(12, 6))\n",
    "plt.plot(df_nvidia_pd[\"date\"], df_nvidia_pd[\"close\"], label=\"NVIDIA\")\n",
    "plt.plot(df_intel_pd[\"date\"], df_intel_pd[\"close\"], label=\"Intel\")\n",
    "plt.plot(df_amd_pd[\"date\"], df_amd_pd[\"close\"], label=\"AMD\")\n",
    "\n",
    "plt.xlabel(\"Date\")\n",
    "plt.ylabel(\"Closing Price\")\n",
    "plt.title(\"Stock Price Trends Over Time\")\n",
    "plt.legend()\n",
    "plt.xticks(rotation=45)\n",
    "plt.show()\n"
   ]
  },
  {
   "cell_type": "code",
   "execution_count": 0,
   "metadata": {
    "application/vnd.databricks.v1+cell": {
     "cellMetadata": {
      "byteLimit": 2048000,
      "rowLimit": 10000
     },
     "inputWidgets": {},
     "nuid": "0766262e-6d08-4049-967a-b820524a64ac",
     "showTitle": false,
     "tableResultSettingsMap": {},
     "title": ""
    }
   },
   "outputs": [
    {
     "data": {
      "image/png": "[encoded data removed]",
      "text/plain": [
       "<Figure size 1200x600 with 1 Axes>"
      ]
     },
     "metadata": {},
     "output_type": "display_data"
    }
   ],
   "source": [
    " # Daily Return Percentage Calculation\n",
    "df_nvidia_pd[\"daily_return\"] = df_nvidia_pd[\"close\"].pct_change()\n",
    "df_intel_pd[\"daily_return\"] = df_intel_pd[\"close\"].pct_change()\n",
    "df_amd_pd[\"daily_return\"] = df_amd_pd[\"close\"].pct_change()\n",
    "\n",
    "# Daily Return Percentage Plot\n",
    "plt.figure(figsize=(12, 6))\n",
    "plt.plot(df_nvidia_pd[\"date\"], df_nvidia_pd[\"daily_return\"], label=\"NVIDIA\", alpha=0.7)\n",
    "plt.plot(df_intel_pd[\"date\"], df_intel_pd[\"daily_return\"], label=\"Intel\", alpha=0.7)\n",
    "plt.plot(df_amd_pd[\"date\"], df_amd_pd[\"daily_return\"], label=\"AMD\", alpha=0.7)\n",
    "\n",
    "plt.xlabel(\"Date\")\n",
    "plt.ylabel(\"Daily Return Percentage\")\n",
    "plt.title(\"Daily Return Percentage Comparison\")\n",
    "plt.legend()\n",
    "plt.xticks(rotation=45)\n",
    "plt.show()"
   ]
  },
  {
   "cell_type": "code",
   "execution_count": 0,
   "metadata": {
    "application/vnd.databricks.v1+cell": {
     "cellMetadata": {
      "byteLimit": 2048000,
      "rowLimit": 10000
     },
     "inputWidgets": {},
     "nuid": "f1783bd3-30db-4ed6-a1c0-e16edeb614fe",
     "showTitle": false,
     "tableResultSettingsMap": {},
     "title": ""
    }
   },
   "outputs": [],
   "source": [
    "# Compute Overall Change in Stock Price\n",
    "intel_price_change = ((df_intel_pd[\"close\"].iloc[-1] - df_intel_pd[\"close\"].iloc[0]) / df_intel_pd[\"close\"].iloc[0]) * 100\n",
    "nvidia_price_change = ((df_nvidia_pd[\"close\"].iloc[-1] - df_nvidia_pd[\"close\"].iloc[0]) / df_nvidia_pd[\"close\"].iloc[0]) * 100\n",
    "amd_price_change = ((df_amd_pd[\"close\"].iloc[-1] - df_amd_pd[\"close\"].iloc[0]) / df_amd_pd[\"close\"].iloc[0]) * 100"
   ]
  },
  {
   "cell_type": "code",
   "execution_count": 0,
   "metadata": {
    "application/vnd.databricks.v1+cell": {
     "cellMetadata": {
      "byteLimit": 2048000,
      "rowLimit": 10000
     },
     "inputWidgets": {},
     "nuid": "a8430d23-290c-44ca-b535-752974643e8e",
     "showTitle": false,
     "tableResultSettingsMap": {},
     "title": ""
    }
   },
   "outputs": [],
   "source": [
    "import pandas as pd\n",
    "# display Results in Databricks\n",
    "stock_changes = pd.DataFrame({\n",
    "    \"Stock\": [\"Intel\", \"Nvidia\", \"AMD\"],\n",
    "    \"Percentage Change (%)\": [intel_price_change, nvidia_price_change, amd_price_change]\n",
    "})"
   ]
  },
  {
   "cell_type": "code",
   "execution_count": 0,
   "metadata": {
    "application/vnd.databricks.v1+cell": {
     "cellMetadata": {
      "byteLimit": 2048000,
      "rowLimit": 10000
     },
     "inputWidgets": {},
     "nuid": "c876df88-420a-403a-a713-35c0e8025174",
     "showTitle": false,
     "tableResultSettingsMap": {},
     "title": ""
    }
   },
   "outputs": [
    {
     "data": {
      "text/html": [
       "<style scoped>\n",
       "  .table-result-container {\n",
       "    max-height: 300px;\n",
       "    overflow: auto;\n",
       "  }\n",
       "  table, th, td {\n",
       "    border: 1px solid black;\n",
       "    border-collapse: collapse;\n",
       "  }\n",
       "  th, td {\n",
       "    padding: 5px;\n",
       "  }\n",
       "  th {\n",
       "    text-align: left;\n",
       "  }\n",
       "</style><div class='table-result-container'><table class='table-result'><thead style='background-color: white'><tr><th>Stock</th><th>Percentage Change (%)</th></tr></thead><tbody><tr><td>Intel</td><td>22889.102231447843</td></tr><tr><td>Nvidia</td><td>49409.544008483565</td></tr><tr><td>AMD</td><td>959.6276743539871</td></tr></tbody></table></div>"
      ]
     },
     "metadata": {
      "application/vnd.databricks.v1+output": {
       "addedWidgets": {},
       "aggData": [],
       "aggError": "",
       "aggOverflow": false,
       "aggSchema": [],
       "aggSeriesLimitReached": false,
       "aggType": "",
       "arguments": {},
       "columnCustomDisplayInfos": {},
       "data": [
        [
         "Intel",
         22889.102231447843
        ],
        [
         "Nvidia",
         49409.544008483565
        ],
        [
         "AMD",
         959.6276743539871
        ]
       ],
       "datasetInfos": [],
       "dbfsResultPath": null,
       "isJsonSchema": true,
       "metadata": {},
       "overflow": false,
       "plotOptions": {
        "customPlotOptions": {},
        "displayType": "table",
        "pivotAggregation": null,
        "pivotColumns": null,
        "xColumns": null,
        "yColumns": null
       },
       "removedWidgets": [],
       "schema": [
        {
         "metadata": "{}",
         "name": "Stock",
         "type": "\"string\""
        },
        {
         "metadata": "{}",
         "name": "Percentage Change (%)",
         "type": "\"double\""
        }
       ],
       "type": "table"
      }
     },
     "output_type": "display_data"
    }
   ],
   "source": [
    "display(stock_changes)"
   ]
  },
  {
   "cell_type": "code",
   "execution_count": 0,
   "metadata": {
    "application/vnd.databricks.v1+cell": {
     "cellMetadata": {
      "byteLimit": 2048000,
      "rowLimit": 10000
     },
     "inputWidgets": {},
     "nuid": "7f693f1c-9bdb-495c-a80a-fcc696893bb9",
     "showTitle": false,
     "tableResultSettingsMap": {},
     "title": ""
    }
   },
   "outputs": [
    {
     "data": {
      "text/html": [
       "<div>\n",
       "<style scoped>\n",
       "    .dataframe tbody tr th:only-of-type {\n",
       "        vertical-align: middle;\n",
       "    }\n",
       "\n",
       "    .dataframe tbody tr th {\n",
       "        vertical-align: top;\n",
       "    }\n",
       "\n",
       "    .dataframe thead th {\n",
       "        text-align: right;\n",
       "    }\n",
       "</style>\n",
       "<table border=\"1\" class=\"dataframe\">\n",
       "  <thead>\n",
       "    <tr style=\"text-align: right;\">\n",
       "      <th></th>\n",
       "      <th>date</th>\n",
       "      <th>open</th>\n",
       "      <th>high</th>\n",
       "      <th>low</th>\n",
       "      <th>close</th>\n",
       "      <th>volume</th>\n",
       "      <th>daily_return</th>\n",
       "    </tr>\n",
       "  </thead>\n",
       "  <tbody>\n",
       "    <tr>\n",
       "      <th>0</th>\n",
       "      <td>1999-01-22</td>\n",
       "      <td>0.4023</td>\n",
       "      <td>0.4490</td>\n",
       "      <td>0.3569</td>\n",
       "      <td>0.3772</td>\n",
       "      <td>271468800</td>\n",
       "      <td>NaN</td>\n",
       "    </tr>\n",
       "    <tr>\n",
       "      <th>1</th>\n",
       "      <td>1999-01-25</td>\n",
       "      <td>0.4071</td>\n",
       "      <td>0.4214</td>\n",
       "      <td>0.3772</td>\n",
       "      <td>0.4166</td>\n",
       "      <td>51048000</td>\n",
       "      <td>0.104454</td>\n",
       "    </tr>\n",
       "    <tr>\n",
       "      <th>2</th>\n",
       "      <td>1999-01-26</td>\n",
       "      <td>0.4214</td>\n",
       "      <td>0.4299</td>\n",
       "      <td>0.3783</td>\n",
       "      <td>0.3843</td>\n",
       "      <td>34320000</td>\n",
       "      <td>-0.077532</td>\n",
       "    </tr>\n",
       "    <tr>\n",
       "      <th>3</th>\n",
       "      <td>1999-01-27</td>\n",
       "      <td>0.3856</td>\n",
       "      <td>0.3952</td>\n",
       "      <td>0.3640</td>\n",
       "      <td>0.3831</td>\n",
       "      <td>24436800</td>\n",
       "      <td>-0.003123</td>\n",
       "    </tr>\n",
       "    <tr>\n",
       "      <th>4</th>\n",
       "      <td>1999-01-28</td>\n",
       "      <td>0.3831</td>\n",
       "      <td>0.3856</td>\n",
       "      <td>0.3795</td>\n",
       "      <td>0.3820</td>\n",
       "      <td>22752000</td>\n",
       "      <td>-0.002871</td>\n",
       "    </tr>\n",
       "  </tbody>\n",
       "</table>\n",
       "</div>"
      ],
      "text/plain": [
       "         date    open    high     low   close     volume  daily_return\n",
       "0  1999-01-22  0.4023  0.4490  0.3569  0.3772  271468800           NaN\n",
       "1  1999-01-25  0.4071  0.4214  0.3772  0.4166   51048000      0.104454\n",
       "2  1999-01-26  0.4214  0.4299  0.3783  0.3843   34320000     -0.077532\n",
       "3  1999-01-27  0.3856  0.3952  0.3640  0.3831   24436800     -0.003123\n",
       "4  1999-01-28  0.3831  0.3856  0.3795  0.3820   22752000     -0.002871"
      ]
     },
     "execution_count": 51,
     "metadata": {},
     "output_type": "execute_result"
    }
   ],
   "source": [
    "df_nvidia_pd.head()\n"
   ]
  },
  {
   "cell_type": "code",
   "execution_count": 0,
   "metadata": {
    "application/vnd.databricks.v1+cell": {
     "cellMetadata": {
      "byteLimit": 2048000,
      "rowLimit": 10000
     },
     "inputWidgets": {},
     "nuid": "30ed7b25-c9bd-4841-a410-4ac140d70492",
     "showTitle": false,
     "tableResultSettingsMap": {},
     "title": ""
    }
   },
   "outputs": [
    {
     "data": {
      "text/html": [
       "<div>\n",
       "<style scoped>\n",
       "    .dataframe tbody tr th:only-of-type {\n",
       "        vertical-align: middle;\n",
       "    }\n",
       "\n",
       "    .dataframe tbody tr th {\n",
       "        vertical-align: top;\n",
       "    }\n",
       "\n",
       "    .dataframe thead th {\n",
       "        text-align: right;\n",
       "    }\n",
       "</style>\n",
       "<table border=\"1\" class=\"dataframe\">\n",
       "  <thead>\n",
       "    <tr style=\"text-align: right;\">\n",
       "      <th></th>\n",
       "      <th>date</th>\n",
       "      <th>open</th>\n",
       "      <th>high</th>\n",
       "      <th>low</th>\n",
       "      <th>close</th>\n",
       "      <th>volume</th>\n",
       "      <th>daily_return</th>\n",
       "    </tr>\n",
       "  </thead>\n",
       "  <tbody>\n",
       "    <tr>\n",
       "      <th>0</th>\n",
       "      <td>1983-03-21</td>\n",
       "      <td>8.9675</td>\n",
       "      <td>9.0300</td>\n",
       "      <td>8.8101</td>\n",
       "      <td>8.9975</td>\n",
       "      <td>510800</td>\n",
       "      <td>NaN</td>\n",
       "    </tr>\n",
       "    <tr>\n",
       "      <th>1</th>\n",
       "      <td>1983-03-22</td>\n",
       "      <td>8.7176</td>\n",
       "      <td>8.9675</td>\n",
       "      <td>8.4977</td>\n",
       "      <td>8.4977</td>\n",
       "      <td>328000</td>\n",
       "      <td>-0.055549</td>\n",
       "    </tr>\n",
       "    <tr>\n",
       "      <th>2</th>\n",
       "      <td>1983-03-23</td>\n",
       "      <td>8.4977</td>\n",
       "      <td>8.8101</td>\n",
       "      <td>8.4677</td>\n",
       "      <td>8.7176</td>\n",
       "      <td>427200</td>\n",
       "      <td>0.025878</td>\n",
       "    </tr>\n",
       "    <tr>\n",
       "      <th>3</th>\n",
       "      <td>1983-03-24</td>\n",
       "      <td>8.7176</td>\n",
       "      <td>8.7801</td>\n",
       "      <td>8.6551</td>\n",
       "      <td>8.7801</td>\n",
       "      <td>393200</td>\n",
       "      <td>0.007169</td>\n",
       "    </tr>\n",
       "    <tr>\n",
       "      <th>4</th>\n",
       "      <td>1983-03-25</td>\n",
       "      <td>8.9051</td>\n",
       "      <td>9.0600</td>\n",
       "      <td>8.7476</td>\n",
       "      <td>8.8726</td>\n",
       "      <td>210400</td>\n",
       "      <td>0.010535</td>\n",
       "    </tr>\n",
       "  </tbody>\n",
       "</table>\n",
       "</div>"
      ],
      "text/plain": [
       "         date    open    high     low   close  volume  daily_return\n",
       "0  1983-03-21  8.9675  9.0300  8.8101  8.9975  510800           NaN\n",
       "1  1983-03-22  8.7176  8.9675  8.4977  8.4977  328000     -0.055549\n",
       "2  1983-03-23  8.4977  8.8101  8.4677  8.7176  427200      0.025878\n",
       "3  1983-03-24  8.7176  8.7801  8.6551  8.7801  393200      0.007169\n",
       "4  1983-03-25  8.9051  9.0600  8.7476  8.8726  210400      0.010535"
      ]
     },
     "execution_count": 52,
     "metadata": {},
     "output_type": "execute_result"
    }
   ],
   "source": [
    "df_amd_pd.head()\n"
   ]
  },
  {
   "cell_type": "code",
   "execution_count": 0,
   "metadata": {
    "application/vnd.databricks.v1+cell": {
     "cellMetadata": {
      "byteLimit": 2048000,
      "rowLimit": 10000
     },
     "inputWidgets": {},
     "nuid": "0a06621b-4403-4c3e-a005-828b924db579",
     "showTitle": false,
     "tableResultSettingsMap": {},
     "title": ""
    }
   },
   "outputs": [
    {
     "data": {
      "text/html": [
       "<div>\n",
       "<style scoped>\n",
       "    .dataframe tbody tr th:only-of-type {\n",
       "        vertical-align: middle;\n",
       "    }\n",
       "\n",
       "    .dataframe tbody tr th {\n",
       "        vertical-align: top;\n",
       "    }\n",
       "\n",
       "    .dataframe thead th {\n",
       "        text-align: right;\n",
       "    }\n",
       "</style>\n",
       "<table border=\"1\" class=\"dataframe\">\n",
       "  <thead>\n",
       "    <tr style=\"text-align: right;\">\n",
       "      <th></th>\n",
       "      <th>date</th>\n",
       "      <th>open</th>\n",
       "      <th>high</th>\n",
       "      <th>low</th>\n",
       "      <th>close</th>\n",
       "      <th>volume</th>\n",
       "      <th>daily_return</th>\n",
       "    </tr>\n",
       "  </thead>\n",
       "  <tbody>\n",
       "    <tr>\n",
       "      <th>0</th>\n",
       "      <td>1980-03-17</td>\n",
       "      <td>0.1927</td>\n",
       "      <td>0.1958</td>\n",
       "      <td>0.1927</td>\n",
       "      <td>0.1927</td>\n",
       "      <td>10924800</td>\n",
       "      <td>NaN</td>\n",
       "    </tr>\n",
       "    <tr>\n",
       "      <th>1</th>\n",
       "      <td>1980-03-18</td>\n",
       "      <td>0.1927</td>\n",
       "      <td>0.1943</td>\n",
       "      <td>0.1912</td>\n",
       "      <td>0.1912</td>\n",
       "      <td>17068800</td>\n",
       "      <td>-0.007784</td>\n",
       "    </tr>\n",
       "    <tr>\n",
       "      <th>2</th>\n",
       "      <td>1980-03-19</td>\n",
       "      <td>0.1958</td>\n",
       "      <td>0.1989</td>\n",
       "      <td>0.1958</td>\n",
       "      <td>0.1958</td>\n",
       "      <td>18508800</td>\n",
       "      <td>0.024059</td>\n",
       "    </tr>\n",
       "    <tr>\n",
       "      <th>3</th>\n",
       "      <td>1980-03-20</td>\n",
       "      <td>0.1958</td>\n",
       "      <td>0.1981</td>\n",
       "      <td>0.1950</td>\n",
       "      <td>0.1950</td>\n",
       "      <td>11174400</td>\n",
       "      <td>-0.004086</td>\n",
       "    </tr>\n",
       "    <tr>\n",
       "      <th>4</th>\n",
       "      <td>1980-03-21</td>\n",
       "      <td>0.1912</td>\n",
       "      <td>0.1912</td>\n",
       "      <td>0.1881</td>\n",
       "      <td>0.1881</td>\n",
       "      <td>12172800</td>\n",
       "      <td>-0.035385</td>\n",
       "    </tr>\n",
       "  </tbody>\n",
       "</table>\n",
       "</div>"
      ],
      "text/plain": [
       "         date    open    high     low   close    volume  daily_return\n",
       "0  1980-03-17  0.1927  0.1958  0.1927  0.1927  10924800           NaN\n",
       "1  1980-03-18  0.1927  0.1943  0.1912  0.1912  17068800     -0.007784\n",
       "2  1980-03-19  0.1958  0.1989  0.1958  0.1958  18508800      0.024059\n",
       "3  1980-03-20  0.1958  0.1981  0.1950  0.1950  11174400     -0.004086\n",
       "4  1980-03-21  0.1912  0.1912  0.1881  0.1881  12172800     -0.035385"
      ]
     },
     "execution_count": 53,
     "metadata": {},
     "output_type": "execute_result"
    }
   ],
   "source": [
    "#tyhe percentages i am getting are way too high there is some issue .. not it is correct . due to ingation, amd other factors this grew naturally.\n",
    "df_intel_pd.head()\n"
   ]
  },
  {
   "cell_type": "code",
   "execution_count": 0,
   "metadata": {
    "application/vnd.databricks.v1+cell": {
     "cellMetadata": {
      "byteLimit": 2048000,
      "rowLimit": 10000
     },
     "inputWidgets": {},
     "nuid": "22a11012-c502-4d9c-90a0-1a16b3a7abf7",
     "showTitle": false,
     "tableResultSettingsMap": {},
     "title": ""
    }
   },
   "outputs": [
    {
     "data": {
      "text/html": [
       "<div>\n",
       "<style scoped>\n",
       "    .dataframe tbody tr th:only-of-type {\n",
       "        vertical-align: middle;\n",
       "    }\n",
       "\n",
       "    .dataframe tbody tr th {\n",
       "        vertical-align: top;\n",
       "    }\n",
       "\n",
       "    .dataframe thead th {\n",
       "        text-align: right;\n",
       "    }\n",
       "</style>\n",
       "<table border=\"1\" class=\"dataframe\">\n",
       "  <thead>\n",
       "    <tr style=\"text-align: right;\">\n",
       "      <th></th>\n",
       "      <th>date</th>\n",
       "      <th>open</th>\n",
       "      <th>high</th>\n",
       "      <th>low</th>\n",
       "      <th>close</th>\n",
       "      <th>volume</th>\n",
       "      <th>daily_return</th>\n",
       "    </tr>\n",
       "  </thead>\n",
       "  <tbody>\n",
       "    <tr>\n",
       "      <th>10622</th>\n",
       "      <td>2022-05-02</td>\n",
       "      <td>43.3651</td>\n",
       "      <td>44.6248</td>\n",
       "      <td>43.1568</td>\n",
       "      <td>44.5950</td>\n",
       "      <td>45319549</td>\n",
       "      <td>0.031427</td>\n",
       "    </tr>\n",
       "    <tr>\n",
       "      <th>10623</th>\n",
       "      <td>2022-05-03</td>\n",
       "      <td>44.4264</td>\n",
       "      <td>45.1207</td>\n",
       "      <td>43.8710</td>\n",
       "      <td>44.6942</td>\n",
       "      <td>40031392</td>\n",
       "      <td>0.002224</td>\n",
       "    </tr>\n",
       "    <tr>\n",
       "      <th>10624</th>\n",
       "      <td>2022-05-04</td>\n",
       "      <td>44.6942</td>\n",
       "      <td>46.2614</td>\n",
       "      <td>44.0495</td>\n",
       "      <td>46.1622</td>\n",
       "      <td>44463333</td>\n",
       "      <td>0.032845</td>\n",
       "    </tr>\n",
       "    <tr>\n",
       "      <th>10625</th>\n",
       "      <td>2022-05-05</td>\n",
       "      <td>45.6000</td>\n",
       "      <td>45.9100</td>\n",
       "      <td>44.1300</td>\n",
       "      <td>44.6000</td>\n",
       "      <td>52887744</td>\n",
       "      <td>-0.033842</td>\n",
       "    </tr>\n",
       "    <tr>\n",
       "      <th>10626</th>\n",
       "      <td>2022-05-06</td>\n",
       "      <td>44.4900</td>\n",
       "      <td>45.1500</td>\n",
       "      <td>43.8400</td>\n",
       "      <td>44.3000</td>\n",
       "      <td>40525471</td>\n",
       "      <td>-0.006726</td>\n",
       "    </tr>\n",
       "  </tbody>\n",
       "</table>\n",
       "</div>"
      ],
      "text/plain": [
       "             date     open     high      low    close    volume  daily_return\n",
       "10622  2022-05-02  43.3651  44.6248  43.1568  44.5950  45319549      0.031427\n",
       "10623  2022-05-03  44.4264  45.1207  43.8710  44.6942  40031392      0.002224\n",
       "10624  2022-05-04  44.6942  46.2614  44.0495  46.1622  44463333      0.032845\n",
       "10625  2022-05-05  45.6000  45.9100  44.1300  44.6000  52887744     -0.033842\n",
       "10626  2022-05-06  44.4900  45.1500  43.8400  44.3000  40525471     -0.006726"
      ]
     },
     "execution_count": 54,
     "metadata": {},
     "output_type": "execute_result"
    }
   ],
   "source": [
    "\n",
    "\n",
    "df_intel_pd.tail()"
   ]
  },
  {
   "cell_type": "code",
   "execution_count": 0,
   "metadata": {
    "application/vnd.databricks.v1+cell": {
     "cellMetadata": {
      "byteLimit": 2048000,
      "rowLimit": 10000
     },
     "inputWidgets": {},
     "nuid": "920f303f-72de-4254-9a65-42ba68c9d8b3",
     "showTitle": false,
     "tableResultSettingsMap": {},
     "title": ""
    }
   },
   "outputs": [
    {
     "name": "stdout",
     "output_type": "stream",
     "text": [
      "Model Performance:\n",
      "Mean Absolute Error (MAE): 0.4985\n",
      "Mean Squared Error (MSE): 1.2647\n",
      "Model Accuracy (R² Score): 99.83%\n"
     ]
    },
    {
     "data": {
      "image/png": "[encoded data removed]",
      "text/plain": [
       "<Figure size 1200x600 with 1 Axes>"
      ]
     },
     "metadata": {},
     "output_type": "display_data"
    },
    {
     "data": {
      "text/html": [
       "<style scoped>\n",
       "  .table-result-container {\n",
       "    max-height: 300px;\n",
       "    overflow: auto;\n",
       "  }\n",
       "  table, th, td {\n",
       "    border: 1px solid black;\n",
       "    border-collapse: collapse;\n",
       "  }\n",
       "  th, td {\n",
       "    padding: 5px;\n",
       "  }\n",
       "  th {\n",
       "    text-align: left;\n",
       "  }\n",
       "</style><div class='table-result-container'><table class='table-result'><thead style='background-color: white'><tr><th>Actual</th><th>Predicted</th></tr></thead><tbody><tr><td>28.9</td><td>27.460805481231695</td></tr><tr><td>28.37</td><td>28.66874502933807</td></tr><tr><td>30.28</td><td>28.26852600027739</td></tr><tr><td>31.1</td><td>30.106265589395463</td></tr><tr><td>30.05</td><td>30.920272931393892</td></tr><tr><td>29.67</td><td>30.09144524162034</td></tr><tr><td>29.28</td><td>29.776221159509365</td></tr><tr><td>27.44</td><td>29.44540492378852</td></tr><tr><td>27.56</td><td>27.673010417438896</td></tr><tr><td>26.4</td><td>27.661749322224967</td></tr><tr><td>24.99</td><td>26.475019467083552</td></tr><tr><td>23.95</td><td>25.049383821658658</td></tr><tr><td>24.48</td><td>23.939057639863535</td></tr><tr><td>24.67</td><td>24.360806754397693</td></tr><tr><td>25.29</td><td>24.48577728461833</td></tr><tr><td>26.15</td><td>25.054003371875762</td></tr><tr><td>26.5</td><td>25.920795030573395</td></tr><tr><td>27.43</td><td>26.376931312438735</td></tr><tr><td>28.9</td><td>27.33942044770068</td></tr><tr><td>29.74</td><td>28.828402338463995</td></tr></tbody></table></div>"
      ]
     },
     "metadata": {
      "application/vnd.databricks.v1+output": {
       "addedWidgets": {},
       "aggData": [],
       "aggError": "",
       "aggOverflow": false,
       "aggSchema": [],
       "aggSeriesLimitReached": false,
       "aggType": "",
       "arguments": {},
       "columnCustomDisplayInfos": {},
       "data": [
        [
         28.9,
         27.460805481231695
        ],
        [
         28.37,
         28.66874502933807
        ],
        [
         30.28,
         28.26852600027739
        ],
        [
         31.1,
         30.106265589395463
        ],
        [
         30.05,
         30.920272931393892
        ],
        [
         29.67,
         30.09144524162034
        ],
        [
         29.28,
         29.776221159509365
        ],
        [
         27.44,
         29.44540492378852
        ],
        [
         27.56,
         27.673010417438896
        ],
        [
         26.4,
         27.661749322224967
        ],
        [
         24.99,
         26.475019467083552
        ],
        [
         23.95,
         25.049383821658658
        ],
        [
         24.48,
         23.939057639863535
        ],
        [
         24.67,
         24.360806754397693
        ],
        [
         25.29,
         24.48577728461833
        ],
        [
         26.15,
         25.054003371875762
        ],
        [
         26.5,
         25.920795030573395
        ],
        [
         27.43,
         26.376931312438735
        ],
        [
         28.9,
         27.33942044770068
        ],
        [
         29.74,
         28.828402338463995
        ]
       ],
       "datasetInfos": [],
       "dbfsResultPath": null,
       "isJsonSchema": true,
       "metadata": {},
       "overflow": false,
       "plotOptions": {
        "customPlotOptions": {},
        "displayType": "table",
        "pivotAggregation": null,
        "pivotColumns": null,
        "xColumns": null,
        "yColumns": null
       },
       "removedWidgets": [],
       "schema": [
        {
         "metadata": "{}",
         "name": "Actual",
         "type": "\"double\""
        },
        {
         "metadata": "{}",
         "name": "Predicted",
         "type": "\"double\""
        }
       ],
       "type": "table"
      }
     },
     "output_type": "display_data"
    }
   ],
   "source": [
    "# Import required libraries\n",
    "import numpy as np\n",
    "from sklearn.model_selection import train_test_split\n",
    "from sklearn.linear_model import LinearRegression\n",
    "from sklearn.metrics import mean_absolute_error, mean_squared_error\n",
    "\n",
    "import matplotlib.pyplot as plt\n",
    "\n",
    "#  Function to prepare stock data for regression\n",
    "def prepare_stock_data(df):\n",
    "    df[\"next_close\"] = df[\"close\"].shift(-1)  # Target variable: Next day's closing price\n",
    "\n",
    "    # Moving Averages\n",
    "    df[\"5_day_MA\"] = df[\"close\"].rolling(window=5).mean()\n",
    "    df[\"10_day_MA\"] = df[\"close\"].rolling(window=10).mean()\n",
    "\n",
    "    # Volatility (Standard Deviation of Returns)\n",
    "    df[\"volatility\"] = df[\"daily_return\"].rolling(window=5).std()\n",
    "\n",
    "    return df.dropna()  \n",
    "\n",
    "df_nvidia_pd = prepare_stock_data(df_nvidia_pd)\n",
    "df_intel_pd = prepare_stock_data(df_intel_pd)\n",
    "df_amd_pd = prepare_stock_data(df_amd_pd)\n",
    "\n",
    "df_combined = pd.concat([df_nvidia_pd, df_intel_pd, df_amd_pd], keys=[\"Nvidia\", \"Intel\", \"AMD\"], names=[\"Stock\"])\n",
    "\n",
    "#  Defining features (X) and target (Y)\n",
    "features = [\"close\", \"5_day_MA\", \"10_day_MA\", \"volatility\"]\n",
    "X = df_combined[features]\n",
    "y = df_combined[\"next_close\"]\n",
    "\n",
    "#  Train-test split (80% train, 20% test)\n",
    "X_train, X_test, y_train, y_test = train_test_split(X, y, test_size=0.2, random_state=42, shuffle=False)\n",
    "\n",
    "# Training Linear Regression model\n",
    "lr_model = LinearRegression()\n",
    "lr_model.fit(X_train, y_train)\n",
    "\n",
    "# Make predictions\n",
    "y_pred = lr_model.predict(X_test)\n",
    "\n",
    "# Evaluating model performance\n",
    "mae = mean_absolute_error(y_test, y_pred)\n",
    "mse = mean_squared_error(y_test, y_pred)\n",
    "r2_score = lr_model.score(X_test, y_test) \n",
    "\n",
    "# Displaying results\n",
    "print(f\"Model Performance:\")\n",
    "print(f\"Mean Absolute Error (MAE): {mae:.4f}\")\n",
    "print(f\"Mean Squared Error (MSE): {mse:.4f}\")\n",
    "print(f\"Model Accuracy (R² Score): {r2_score * 100:.2f}%\")  # Accuracy Percentage\n",
    "\n",
    "#  Visualizing Actual vs. Predicted Prices\n",
    "plt.figure(figsize=(12, 6))\n",
    "plt.plot(y_test.values, label=\"Actual Prices\", linestyle='dashed')\n",
    "plt.plot(y_pred, label=\"Predicted Prices\")\n",
    "plt.xlabel(\"Time\")\n",
    "plt.ylabel(\"Stock Price\")\n",
    "plt.title(\"Linear Regression: Actual vs Predicted Stock Prices\")\n",
    "plt.legend()\n",
    "plt.show()\n",
    "\n",
    "#  Display prediction results in Databricks\n",
    "display(pd.DataFrame({\"Actual\": y_test, \"Predicted\": y_pred}).head(20))\n"
   ]
  },
  {
   "cell_type": "code",
   "execution_count": 0,
   "metadata": {
    "application/vnd.databricks.v1+cell": {
     "cellMetadata": {
      "byteLimit": 2048000,
      "rowLimit": 10000
     },
     "inputWidgets": {},
     "nuid": "b2711c27-8eef-4fbd-be1a-ef1cafcbfdb3",
     "showTitle": false,
     "tableResultSettingsMap": {},
     "title": ""
    }
   },
   "outputs": [
    {
     "name": "stdout",
     "output_type": "stream",
     "text": [
      "Predicted Next Day Price: 120.49\n",
      "Will the stock go UP? NO\n"
     ]
    }
   ],
   "source": [
    "import numpy as np\n",
    "import pandas as pd\n",
    "\n",
    "# Manually created test values for prediction\n",
    "test_close = 120.50  # Example current closing price\n",
    "test_5_day_MA = 118.75  # Example 5-day moving average\n",
    "test_10_day_MA = 117.40  # Example 10-day moving average\n",
    "test_volatility = 0.015  # Example stock volatility\n",
    "\n",
    "# Preparing the input data for prediction as a DataFrame with feature names\n",
    "feature_names = [\"close\", \"5_day_MA\", \"10_day_MA\", \"volatility\"]\n",
    "test_data = pd.DataFrame([[test_close, test_5_day_MA, test_10_day_MA, test_volatility]], columns=feature_names)\n",
    "\n",
    "# Predict next day's stock price\n",
    "predicted_price = lr_model.predict(test_data)[0]\n",
    "\n",
    "# Determining if the stock price will go UP or DOWN\n",
    "result = \"YES\" if predicted_price > test_close else \"NO\"\n",
    "\n",
    "# Displaying the result\n",
    "print(f\"Predicted Next Day Price: {predicted_price:.2f}\")\n",
    "print(f\"Will the stock go UP? {result}\")\n"
   ]
  },
  {
   "cell_type": "code",
   "execution_count": 0,
   "metadata": {
    "application/vnd.databricks.v1+cell": {
     "cellMetadata": {
      "byteLimit": 2048000,
      "rowLimit": 10000
     },
     "inputWidgets": {},
     "nuid": "13937702-11b0-42a6-874f-752a6e0aad15",
     "showTitle": false,
     "tableResultSettingsMap": {},
     "title": ""
    }
   },
   "outputs": [
    {
     "name": "stdout",
     "output_type": "stream",
     "text": [
      "Predicted Next-Day Stock Prices:\n",
      "Intel: $125.04\n",
      "Nvidia: $430.17\n",
      "AMD: $90.54\n",
      "\n",
      "Best Investment Option: Nvidia\n"
     ]
    }
   ],
   "source": [
    "import numpy as np\n",
    "import pandas as pd\n",
    "\n",
    "# Function to predict stock price for a given company\n",
    "def predict_stock_price(model, close_price, five_day_ma, ten_day_ma, volatility):\n",
    "    feature_names = [\"close\", \"5_day_MA\", \"10_day_MA\", \"volatility\"]\n",
    "    test_data = pd.DataFrame([[close_price, five_day_ma, ten_day_ma, volatility]], columns=feature_names)\n",
    "    predicted_price = model.predict(test_data)[0]  # Predict next day's price\n",
    "    return predicted_price\n",
    "\n",
    "test_intel = [125.00, 124.50, 123.80, 0.015]  \n",
    "test_nvidia = [430.00, 428.50, 425.60, 0.022]\n",
    "test_amd = [90.50, 89.80, 88.90, 0.018]\n",
    "\n",
    "# Predicting stock prices for each company\n",
    "intel_pred = predict_stock_price(lr_model, *test_intel)\n",
    "nvidia_pred = predict_stock_price(lr_model, *test_nvidia)\n",
    "amd_pred = predict_stock_price(lr_model, *test_amd)\n",
    "\n",
    "# Comparing results\n",
    "predictions = {\"Intel\": intel_pred, \"Nvidia\": nvidia_pred, \"AMD\": amd_pred}\n",
    "best_stock = max(predictions, key=predictions.get) \n",
    "\n",
    "# Displaying results\n",
    "print(f\"Predicted Next-Day Stock Prices:\")\n",
    "print(f\"Intel: ${intel_pred:.2f}\")\n",
    "print(f\"Nvidia: ${nvidia_pred:.2f}\")\n",
    "print(f\"AMD: ${amd_pred:.2f}\")\n",
    "\n",
    "print(f\"\\nBest Investment Option: {best_stock}\")\n"
   ]
  }
 ],
 "metadata": {
  "application/vnd.databricks.v1+notebook": {
   "computePreferences": null,
   "dashboards": [],
   "environmentMetadata": {
    "base_environment": "",
    "environment_version": "2"
   },
   "language": "python",
   "notebookMetadata": {
    "pythonIndentUnit": 4
   },
   "notebookName": "stock_analysis",
   "widgets": {}
  },
  "language_info": {
   "name": "python"
  }
 },
 "nbformat": 4,
 "nbformat_minor": 0
}
